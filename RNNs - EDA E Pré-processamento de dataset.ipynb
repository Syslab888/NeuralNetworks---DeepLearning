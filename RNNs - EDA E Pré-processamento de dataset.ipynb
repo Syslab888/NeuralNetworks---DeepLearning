{
  "nbformat": 4,
  "nbformat_minor": 0,
  "metadata": {
    "colab": {
      "name": " GITHUB RNNs -  EDA/Pré processamento de dataset.ipynb",
      "provenance": [],
      "collapsed_sections": []
    },
    "kernelspec": {
      "name": "python3",
      "display_name": "Python 3"
    },
    "language_info": {
      "name": "python"
    }
  },
  "cells": [
    {
      "cell_type": "markdown",
      "metadata": {
        "id": "f6zvgdBqNvPm"
      },
      "source": [
        "#**ANÁLISE EXPLORATÓRIA e PRÉ-PROCESSAMENTO DE DADOS PARA REDES NEURAIS RECORRENTES (RNNs)**"
      ]
    },
    {
      "cell_type": "markdown",
      "metadata": {
        "id": "Z2CKwhEAN89d"
      },
      "source": [
        "**OBJETIVO: Realizar análise exploratória do dataset com o intuito de prepará-lo e ajustar suas informações para processamento posterior de deep learning com arquitetura de rede neural recorrente Long Short Term Memory (LSTM).**"
      ]
    },
    {
      "cell_type": "code",
      "metadata": {
        "id": "bUxez2RqTnMN"
      },
      "source": [
        "import math\n",
        "import pandas as pd\n",
        "pd.set_option('display.max_columns', 100)\n",
        "import matplotlib.pyplot as plt\n",
        "import numpy as np\n",
        "from keras.models import Sequential\n",
        "from keras.layers import Dense\n",
        "import warnings\n",
        "warnings.filterwarnings('ignore')"
      ],
      "execution_count": null,
      "outputs": []
    },
    {
      "cell_type": "code",
      "metadata": {
        "colab": {
          "base_uri": "https://localhost:8080/"
        },
        "id": "ttpJCeM8UfQo",
        "outputId": "e957b78e-4be7-48a3-8ccf-ebe1fffb818f"
      },
      "source": [
        "from google.colab import drive\n",
        "drive.mount('/content/drive')"
      ],
      "execution_count": null,
      "outputs": [
        {
          "output_type": "stream",
          "text": [
            "Mounted at /content/drive\n"
          ],
          "name": "stdout"
        }
      ]
    },
    {
      "cell_type": "code",
      "metadata": {
        "id": "mOdq-j0QVAGh"
      },
      "source": [
        "#Carregando datasets:\n",
        "dadosEnergia = pd.read_csv('/content/drive/My Drive/energy_dataset.csv')\n",
        "dadosClima = pd.read_csv('/content/drive/My Drive/weather_features.csv')"
      ],
      "execution_count": null,
      "outputs": []
    },
    {
      "cell_type": "code",
      "metadata": {
        "colab": {
          "base_uri": "https://localhost:8080/",
          "height": 281
        },
        "id": "bgww6OIEV1OB",
        "outputId": "613e1586-746f-4e5d-e4eb-8ed3c106fda3"
      },
      "source": [
        "dadosEnergia.head(3)"
      ],
      "execution_count": null,
      "outputs": [
        {
          "output_type": "execute_result",
          "data": {
            "text/html": [
              "<div>\n",
              "<style scoped>\n",
              "    .dataframe tbody tr th:only-of-type {\n",
              "        vertical-align: middle;\n",
              "    }\n",
              "\n",
              "    .dataframe tbody tr th {\n",
              "        vertical-align: top;\n",
              "    }\n",
              "\n",
              "    .dataframe thead th {\n",
              "        text-align: right;\n",
              "    }\n",
              "</style>\n",
              "<table border=\"1\" class=\"dataframe\">\n",
              "  <thead>\n",
              "    <tr style=\"text-align: right;\">\n",
              "      <th></th>\n",
              "      <th>time</th>\n",
              "      <th>generation biomass</th>\n",
              "      <th>generation fossil brown coal/lignite</th>\n",
              "      <th>generation fossil coal-derived gas</th>\n",
              "      <th>generation fossil gas</th>\n",
              "      <th>generation fossil hard coal</th>\n",
              "      <th>generation fossil oil</th>\n",
              "      <th>generation fossil oil shale</th>\n",
              "      <th>generation fossil peat</th>\n",
              "      <th>generation geothermal</th>\n",
              "      <th>generation hydro pumped storage aggregated</th>\n",
              "      <th>generation hydro pumped storage consumption</th>\n",
              "      <th>generation hydro run-of-river and poundage</th>\n",
              "      <th>generation hydro water reservoir</th>\n",
              "      <th>generation marine</th>\n",
              "      <th>generation nuclear</th>\n",
              "      <th>generation other</th>\n",
              "      <th>generation other renewable</th>\n",
              "      <th>generation solar</th>\n",
              "      <th>generation waste</th>\n",
              "      <th>generation wind offshore</th>\n",
              "      <th>generation wind onshore</th>\n",
              "      <th>forecast solar day ahead</th>\n",
              "      <th>forecast wind offshore eday ahead</th>\n",
              "      <th>forecast wind onshore day ahead</th>\n",
              "      <th>total load forecast</th>\n",
              "      <th>total load actual</th>\n",
              "      <th>price day ahead</th>\n",
              "      <th>price actual</th>\n",
              "    </tr>\n",
              "  </thead>\n",
              "  <tbody>\n",
              "    <tr>\n",
              "      <th>0</th>\n",
              "      <td>2015-01-01 00:00:00+01:00</td>\n",
              "      <td>447.0</td>\n",
              "      <td>329.0</td>\n",
              "      <td>0.0</td>\n",
              "      <td>4844.0</td>\n",
              "      <td>4821.0</td>\n",
              "      <td>162.0</td>\n",
              "      <td>0.0</td>\n",
              "      <td>0.0</td>\n",
              "      <td>0.0</td>\n",
              "      <td>NaN</td>\n",
              "      <td>863.0</td>\n",
              "      <td>1051.0</td>\n",
              "      <td>1899.0</td>\n",
              "      <td>0.0</td>\n",
              "      <td>7096.0</td>\n",
              "      <td>43.0</td>\n",
              "      <td>73.0</td>\n",
              "      <td>49.0</td>\n",
              "      <td>196.0</td>\n",
              "      <td>0.0</td>\n",
              "      <td>6378.0</td>\n",
              "      <td>17.0</td>\n",
              "      <td>NaN</td>\n",
              "      <td>6436.0</td>\n",
              "      <td>26118.0</td>\n",
              "      <td>25385.0</td>\n",
              "      <td>50.10</td>\n",
              "      <td>65.41</td>\n",
              "    </tr>\n",
              "    <tr>\n",
              "      <th>1</th>\n",
              "      <td>2015-01-01 01:00:00+01:00</td>\n",
              "      <td>449.0</td>\n",
              "      <td>328.0</td>\n",
              "      <td>0.0</td>\n",
              "      <td>5196.0</td>\n",
              "      <td>4755.0</td>\n",
              "      <td>158.0</td>\n",
              "      <td>0.0</td>\n",
              "      <td>0.0</td>\n",
              "      <td>0.0</td>\n",
              "      <td>NaN</td>\n",
              "      <td>920.0</td>\n",
              "      <td>1009.0</td>\n",
              "      <td>1658.0</td>\n",
              "      <td>0.0</td>\n",
              "      <td>7096.0</td>\n",
              "      <td>43.0</td>\n",
              "      <td>71.0</td>\n",
              "      <td>50.0</td>\n",
              "      <td>195.0</td>\n",
              "      <td>0.0</td>\n",
              "      <td>5890.0</td>\n",
              "      <td>16.0</td>\n",
              "      <td>NaN</td>\n",
              "      <td>5856.0</td>\n",
              "      <td>24934.0</td>\n",
              "      <td>24382.0</td>\n",
              "      <td>48.10</td>\n",
              "      <td>64.92</td>\n",
              "    </tr>\n",
              "    <tr>\n",
              "      <th>2</th>\n",
              "      <td>2015-01-01 02:00:00+01:00</td>\n",
              "      <td>448.0</td>\n",
              "      <td>323.0</td>\n",
              "      <td>0.0</td>\n",
              "      <td>4857.0</td>\n",
              "      <td>4581.0</td>\n",
              "      <td>157.0</td>\n",
              "      <td>0.0</td>\n",
              "      <td>0.0</td>\n",
              "      <td>0.0</td>\n",
              "      <td>NaN</td>\n",
              "      <td>1164.0</td>\n",
              "      <td>973.0</td>\n",
              "      <td>1371.0</td>\n",
              "      <td>0.0</td>\n",
              "      <td>7099.0</td>\n",
              "      <td>43.0</td>\n",
              "      <td>73.0</td>\n",
              "      <td>50.0</td>\n",
              "      <td>196.0</td>\n",
              "      <td>0.0</td>\n",
              "      <td>5461.0</td>\n",
              "      <td>8.0</td>\n",
              "      <td>NaN</td>\n",
              "      <td>5454.0</td>\n",
              "      <td>23515.0</td>\n",
              "      <td>22734.0</td>\n",
              "      <td>47.33</td>\n",
              "      <td>64.48</td>\n",
              "    </tr>\n",
              "  </tbody>\n",
              "</table>\n",
              "</div>"
            ],
            "text/plain": [
              "                        time  generation biomass  \\\n",
              "0  2015-01-01 00:00:00+01:00               447.0   \n",
              "1  2015-01-01 01:00:00+01:00               449.0   \n",
              "2  2015-01-01 02:00:00+01:00               448.0   \n",
              "\n",
              "   generation fossil brown coal/lignite  generation fossil coal-derived gas  \\\n",
              "0                                 329.0                                 0.0   \n",
              "1                                 328.0                                 0.0   \n",
              "2                                 323.0                                 0.0   \n",
              "\n",
              "   generation fossil gas  generation fossil hard coal  generation fossil oil  \\\n",
              "0                 4844.0                       4821.0                  162.0   \n",
              "1                 5196.0                       4755.0                  158.0   \n",
              "2                 4857.0                       4581.0                  157.0   \n",
              "\n",
              "   generation fossil oil shale  generation fossil peat  generation geothermal  \\\n",
              "0                          0.0                     0.0                    0.0   \n",
              "1                          0.0                     0.0                    0.0   \n",
              "2                          0.0                     0.0                    0.0   \n",
              "\n",
              "   generation hydro pumped storage aggregated  \\\n",
              "0                                         NaN   \n",
              "1                                         NaN   \n",
              "2                                         NaN   \n",
              "\n",
              "   generation hydro pumped storage consumption  \\\n",
              "0                                        863.0   \n",
              "1                                        920.0   \n",
              "2                                       1164.0   \n",
              "\n",
              "   generation hydro run-of-river and poundage  \\\n",
              "0                                      1051.0   \n",
              "1                                      1009.0   \n",
              "2                                       973.0   \n",
              "\n",
              "   generation hydro water reservoir  generation marine  generation nuclear  \\\n",
              "0                            1899.0                0.0              7096.0   \n",
              "1                            1658.0                0.0              7096.0   \n",
              "2                            1371.0                0.0              7099.0   \n",
              "\n",
              "   generation other  generation other renewable  generation solar  \\\n",
              "0              43.0                        73.0              49.0   \n",
              "1              43.0                        71.0              50.0   \n",
              "2              43.0                        73.0              50.0   \n",
              "\n",
              "   generation waste  generation wind offshore  generation wind onshore  \\\n",
              "0             196.0                       0.0                   6378.0   \n",
              "1             195.0                       0.0                   5890.0   \n",
              "2             196.0                       0.0                   5461.0   \n",
              "\n",
              "   forecast solar day ahead  forecast wind offshore eday ahead  \\\n",
              "0                      17.0                                NaN   \n",
              "1                      16.0                                NaN   \n",
              "2                       8.0                                NaN   \n",
              "\n",
              "   forecast wind onshore day ahead  total load forecast  total load actual  \\\n",
              "0                           6436.0              26118.0            25385.0   \n",
              "1                           5856.0              24934.0            24382.0   \n",
              "2                           5454.0              23515.0            22734.0   \n",
              "\n",
              "   price day ahead  price actual  \n",
              "0            50.10         65.41  \n",
              "1            48.10         64.92  \n",
              "2            47.33         64.48  "
            ]
          },
          "metadata": {
            "tags": []
          },
          "execution_count": 4
        }
      ]
    },
    {
      "cell_type": "code",
      "metadata": {
        "colab": {
          "base_uri": "https://localhost:8080/",
          "height": 213
        },
        "id": "akrppDYCV9jp",
        "outputId": "10d54130-e60a-44d7-8aad-6c6d954c262b"
      },
      "source": [
        "dadosClima.tail(3)"
      ],
      "execution_count": null,
      "outputs": [
        {
          "output_type": "execute_result",
          "data": {
            "text/html": [
              "<div>\n",
              "<style scoped>\n",
              "    .dataframe tbody tr th:only-of-type {\n",
              "        vertical-align: middle;\n",
              "    }\n",
              "\n",
              "    .dataframe tbody tr th {\n",
              "        vertical-align: top;\n",
              "    }\n",
              "\n",
              "    .dataframe thead th {\n",
              "        text-align: right;\n",
              "    }\n",
              "</style>\n",
              "<table border=\"1\" class=\"dataframe\">\n",
              "  <thead>\n",
              "    <tr style=\"text-align: right;\">\n",
              "      <th></th>\n",
              "      <th>dt_iso</th>\n",
              "      <th>city_name</th>\n",
              "      <th>temp</th>\n",
              "      <th>temp_min</th>\n",
              "      <th>temp_max</th>\n",
              "      <th>pressure</th>\n",
              "      <th>humidity</th>\n",
              "      <th>wind_speed</th>\n",
              "      <th>wind_deg</th>\n",
              "      <th>rain_1h</th>\n",
              "      <th>rain_3h</th>\n",
              "      <th>snow_3h</th>\n",
              "      <th>clouds_all</th>\n",
              "      <th>weather_id</th>\n",
              "      <th>weather_main</th>\n",
              "      <th>weather_description</th>\n",
              "      <th>weather_icon</th>\n",
              "    </tr>\n",
              "  </thead>\n",
              "  <tbody>\n",
              "    <tr>\n",
              "      <th>178393</th>\n",
              "      <td>2018-12-31 21:00:00+01:00</td>\n",
              "      <td>Seville</td>\n",
              "      <td>285.15</td>\n",
              "      <td>285.15</td>\n",
              "      <td>285.15</td>\n",
              "      <td>1028</td>\n",
              "      <td>58</td>\n",
              "      <td>4</td>\n",
              "      <td>50</td>\n",
              "      <td>0.0</td>\n",
              "      <td>0.0</td>\n",
              "      <td>0.0</td>\n",
              "      <td>0</td>\n",
              "      <td>800</td>\n",
              "      <td>clear</td>\n",
              "      <td>sky is clear</td>\n",
              "      <td>01n</td>\n",
              "    </tr>\n",
              "    <tr>\n",
              "      <th>178394</th>\n",
              "      <td>2018-12-31 22:00:00+01:00</td>\n",
              "      <td>Seville</td>\n",
              "      <td>284.15</td>\n",
              "      <td>284.15</td>\n",
              "      <td>284.15</td>\n",
              "      <td>1029</td>\n",
              "      <td>57</td>\n",
              "      <td>4</td>\n",
              "      <td>60</td>\n",
              "      <td>0.0</td>\n",
              "      <td>0.0</td>\n",
              "      <td>0.0</td>\n",
              "      <td>0</td>\n",
              "      <td>800</td>\n",
              "      <td>clear</td>\n",
              "      <td>sky is clear</td>\n",
              "      <td>01n</td>\n",
              "    </tr>\n",
              "    <tr>\n",
              "      <th>178395</th>\n",
              "      <td>2018-12-31 23:00:00+01:00</td>\n",
              "      <td>Seville</td>\n",
              "      <td>283.97</td>\n",
              "      <td>282.15</td>\n",
              "      <td>285.15</td>\n",
              "      <td>1029</td>\n",
              "      <td>70</td>\n",
              "      <td>3</td>\n",
              "      <td>50</td>\n",
              "      <td>0.0</td>\n",
              "      <td>0.0</td>\n",
              "      <td>0.0</td>\n",
              "      <td>0</td>\n",
              "      <td>800</td>\n",
              "      <td>clear</td>\n",
              "      <td>sky is clear</td>\n",
              "      <td>01n</td>\n",
              "    </tr>\n",
              "  </tbody>\n",
              "</table>\n",
              "</div>"
            ],
            "text/plain": [
              "                           dt_iso city_name    temp  temp_min  temp_max  \\\n",
              "178393  2018-12-31 21:00:00+01:00   Seville  285.15    285.15    285.15   \n",
              "178394  2018-12-31 22:00:00+01:00   Seville  284.15    284.15    284.15   \n",
              "178395  2018-12-31 23:00:00+01:00   Seville  283.97    282.15    285.15   \n",
              "\n",
              "        pressure  humidity  wind_speed  wind_deg  rain_1h  rain_3h  snow_3h  \\\n",
              "178393      1028        58           4        50      0.0      0.0      0.0   \n",
              "178394      1029        57           4        60      0.0      0.0      0.0   \n",
              "178395      1029        70           3        50      0.0      0.0      0.0   \n",
              "\n",
              "        clouds_all  weather_id weather_main weather_description weather_icon  \n",
              "178393           0         800        clear        sky is clear          01n  \n",
              "178394           0         800        clear        sky is clear          01n  \n",
              "178395           0         800        clear        sky is clear          01n  "
            ]
          },
          "metadata": {
            "tags": []
          },
          "execution_count": 5
        }
      ]
    },
    {
      "cell_type": "markdown",
      "metadata": {
        "id": "LvEP-qxOSV7_"
      },
      "source": [
        "**Pré-processamento do primeiro conjunto de dados(energia)**"
      ]
    },
    {
      "cell_type": "code",
      "metadata": {
        "colab": {
          "base_uri": "https://localhost:8080/"
        },
        "id": "BrfSL_WrWBWT",
        "outputId": "3d683cf4-30a0-4b3a-fe7f-ea0636e964bc"
      },
      "source": [
        "#Verificando tipos de dados do dataset:\n",
        "dadosEnergia.dtypes"
      ],
      "execution_count": null,
      "outputs": [
        {
          "output_type": "execute_result",
          "data": {
            "text/plain": [
              "time                                            object\n",
              "generation biomass                             float64\n",
              "generation fossil brown coal/lignite           float64\n",
              "generation fossil coal-derived gas             float64\n",
              "generation fossil gas                          float64\n",
              "generation fossil hard coal                    float64\n",
              "generation fossil oil                          float64\n",
              "generation fossil oil shale                    float64\n",
              "generation fossil peat                         float64\n",
              "generation geothermal                          float64\n",
              "generation hydro pumped storage aggregated     float64\n",
              "generation hydro pumped storage consumption    float64\n",
              "generation hydro run-of-river and poundage     float64\n",
              "generation hydro water reservoir               float64\n",
              "generation marine                              float64\n",
              "generation nuclear                             float64\n",
              "generation other                               float64\n",
              "generation other renewable                     float64\n",
              "generation solar                               float64\n",
              "generation waste                               float64\n",
              "generation wind offshore                       float64\n",
              "generation wind onshore                        float64\n",
              "forecast solar day ahead                       float64\n",
              "forecast wind offshore eday ahead              float64\n",
              "forecast wind onshore day ahead                float64\n",
              "total load forecast                            float64\n",
              "total load actual                              float64\n",
              "price day ahead                                float64\n",
              "price actual                                   float64\n",
              "dtype: object"
            ]
          },
          "metadata": {
            "tags": []
          },
          "execution_count": 6
        }
      ]
    },
    {
      "cell_type": "code",
      "metadata": {
        "id": "3rRg82L1WS3N"
      },
      "source": [
        "#Uma vez que os dados de data (time) estão em formato 'Object', ajustá-los para formato adequado (date_time):\n",
        "dadosEnergia['time'] = pd.to_datetime(dadosEnergia['time'], utc=True)"
      ],
      "execution_count": null,
      "outputs": []
    },
    {
      "cell_type": "code",
      "metadata": {
        "colab": {
          "base_uri": "https://localhost:8080/"
        },
        "id": "MMvCOOjhWmdM",
        "outputId": "42388213-8960-4cfb-af1f-3d8789ec1582"
      },
      "source": [
        "#Verificando dados nulos:\n",
        "dadosEnergia.isnull().sum()"
      ],
      "execution_count": null,
      "outputs": [
        {
          "output_type": "execute_result",
          "data": {
            "text/plain": [
              "time                                               0\n",
              "generation biomass                                19\n",
              "generation fossil brown coal/lignite              18\n",
              "generation fossil coal-derived gas                18\n",
              "generation fossil gas                             18\n",
              "generation fossil hard coal                       18\n",
              "generation fossil oil                             19\n",
              "generation fossil oil shale                       18\n",
              "generation fossil peat                            18\n",
              "generation geothermal                             18\n",
              "generation hydro pumped storage aggregated     35064\n",
              "generation hydro pumped storage consumption       19\n",
              "generation hydro run-of-river and poundage        19\n",
              "generation hydro water reservoir                  18\n",
              "generation marine                                 19\n",
              "generation nuclear                                17\n",
              "generation other                                  18\n",
              "generation other renewable                        18\n",
              "generation solar                                  18\n",
              "generation waste                                  19\n",
              "generation wind offshore                          18\n",
              "generation wind onshore                           18\n",
              "forecast solar day ahead                           0\n",
              "forecast wind offshore eday ahead              35064\n",
              "forecast wind onshore day ahead                    0\n",
              "total load forecast                                0\n",
              "total load actual                                 36\n",
              "price day ahead                                    0\n",
              "price actual                                       0\n",
              "dtype: int64"
            ]
          },
          "metadata": {
            "tags": []
          },
          "execution_count": 8
        }
      ]
    },
    {
      "cell_type": "code",
      "metadata": {
        "colab": {
          "base_uri": "https://localhost:8080/"
        },
        "id": "4gOGGrSJfLNP",
        "outputId": "d177929c-eb74-4024-b51f-3b6ad8fcd478"
      },
      "source": [
        "#Verificando dados nulos em termos percentuais:\n",
        "dadosNulos = (dadosEnergia.isnull().sum() / len(dadosEnergia['time'])) *100\n",
        "dadosNulos"
      ],
      "execution_count": null,
      "outputs": [
        {
          "output_type": "execute_result",
          "data": {
            "text/plain": [
              "time                                             0.000000\n",
              "generation biomass                               0.054187\n",
              "generation fossil brown coal/lignite             0.051335\n",
              "generation fossil coal-derived gas               0.051335\n",
              "generation fossil gas                            0.051335\n",
              "generation fossil hard coal                      0.051335\n",
              "generation fossil oil                            0.054187\n",
              "generation fossil oil shale                      0.051335\n",
              "generation fossil peat                           0.051335\n",
              "generation geothermal                            0.051335\n",
              "generation hydro pumped storage aggregated     100.000000\n",
              "generation hydro pumped storage consumption      0.054187\n",
              "generation hydro run-of-river and poundage       0.054187\n",
              "generation hydro water reservoir                 0.051335\n",
              "generation marine                                0.054187\n",
              "generation nuclear                               0.048483\n",
              "generation other                                 0.051335\n",
              "generation other renewable                       0.051335\n",
              "generation solar                                 0.051335\n",
              "generation waste                                 0.054187\n",
              "generation wind offshore                         0.051335\n",
              "generation wind onshore                          0.051335\n",
              "forecast solar day ahead                         0.000000\n",
              "forecast wind offshore eday ahead              100.000000\n",
              "forecast wind onshore day ahead                  0.000000\n",
              "total load forecast                              0.000000\n",
              "total load actual                                0.102669\n",
              "price day ahead                                  0.000000\n",
              "price actual                                     0.000000\n",
              "dtype: float64"
            ]
          },
          "metadata": {
            "tags": []
          },
          "execution_count": 9
        }
      ]
    },
    {
      "cell_type": "code",
      "metadata": {
        "colab": {
          "base_uri": "https://localhost:8080/"
        },
        "id": "BH1FesRcgPPp",
        "outputId": "c69b9455-f74c-4b67-ba93-3b3625b6eb5f"
      },
      "source": [
        "#Verificando quantidade de zeros nas variáveis do dataset em termos percentuais:\n",
        "zerosQtde = (dadosEnergia[dadosEnergia==0].count() / len(dadosEnergia['time'])) *100\n",
        "zerosQtde"
      ],
      "execution_count": null,
      "outputs": [
        {
          "output_type": "execute_result",
          "data": {
            "text/plain": [
              "time                                            0.000000\n",
              "generation biomass                              0.011408\n",
              "generation fossil brown coal/lignite           29.993726\n",
              "generation fossil coal-derived gas             99.948665\n",
              "generation fossil gas                           0.002852\n",
              "generation fossil hard coal                     0.008556\n",
              "generation fossil oil                           0.008556\n",
              "generation fossil oil shale                    99.948665\n",
              "generation fossil peat                         99.948665\n",
              "generation geothermal                          99.948665\n",
              "generation hydro pumped storage aggregated      0.000000\n",
              "generation hydro pumped storage consumption    35.954255\n",
              "generation hydro run-of-river and poundage      0.008556\n",
              "generation hydro water reservoir                0.008556\n",
              "generation marine                              99.945813\n",
              "generation nuclear                              0.008556\n",
              "generation other                                0.011408\n",
              "generation other renewable                      0.008556\n",
              "generation solar                                0.008556\n",
              "generation waste                                0.008556\n",
              "generation wind offshore                       99.948665\n",
              "generation wind onshore                         0.008556\n",
              "forecast solar day ahead                        1.537189\n",
              "forecast wind offshore eday ahead               0.000000\n",
              "forecast wind onshore day ahead                 0.000000\n",
              "total load forecast                             0.000000\n",
              "total load actual                               0.000000\n",
              "price day ahead                                 0.000000\n",
              "price actual                                    0.000000\n",
              "dtype: float64"
            ]
          },
          "metadata": {
            "tags": []
          },
          "execution_count": 10
        }
      ]
    },
    {
      "cell_type": "markdown",
      "metadata": {
        "id": "j188hN92g4D7"
      },
      "source": [
        "**AÇÕES A SEREM TOMADAS ATÉ O MOMENTO PARA LIMPEZA DO DATASET:**\n",
        "1. Irei criar uma nova variável para salvar a previsão de preços do dia seguinte contida no próprio dataset e remover do dataset atual para a nossa previsão. Pode servir para comparação posterior após resultados da aplicação de modelo ML ou rede neural.\n",
        "2. Optei por não substituir elementos de features com quantidade expressiva de dados faltantes, excluindo as features com 100% de dados nulos e com muitos valores iguais a zero.\n",
        "3. Depois da exclusão das features com valores mais discrepantes, realizarei uma interpolação dos dados missing (espécie de substituição por um valor médio, só que mais adequada em casos de dados temporais prevenindo uma dispersão no gráfico). Em datasets com dados não ligados de maneira temporal, podemos fazer visualizar estes valores por meio de boxplots ou histogramas para tomada de decisão em relação aos outliers. Em datasets com dados temporais, podemos usar uma 'interpolação linear' que liga dois pontos por meio de uma reta."
      ]
    },
    {
      "cell_type": "code",
      "metadata": {
        "colab": {
          "base_uri": "https://localhost:8080/"
        },
        "id": "ZSF4_3g7Xk1t",
        "outputId": "c9dd9bcb-8a01-441a-ba93-ee7df6f72895"
      },
      "source": [
        "#1. Criando nova variável da feature de previsão já contida no dataset:\n",
        "previsaoEnergia = dadosEnergia['price day ahead']\n",
        "previsaoEnergia.head(3)"
      ],
      "execution_count": null,
      "outputs": [
        {
          "output_type": "execute_result",
          "data": {
            "text/plain": [
              "0    50.10\n",
              "1    48.10\n",
              "2    47.33\n",
              "Name: price day ahead, dtype: float64"
            ]
          },
          "metadata": {
            "tags": []
          },
          "execution_count": 11
        }
      ]
    },
    {
      "cell_type": "code",
      "metadata": {
        "id": "Y_Ju-kWYYEVD"
      },
      "source": [
        "#2. Excluindo features desnecessárias:\n",
        "dadosEnergia = dadosEnergia.drop(['generation fossil coal-derived gas', 'generation fossil oil shale', \n",
        "                                 'generation fossil peat', 'generation geothermal', 'generation marine',\n",
        "                                 'generation wind offshore', 'generation hydro pumped storage aggregated',\n",
        "                                 'forecast wind offshore eday ahead', 'price day ahead'], axis=1)"
      ],
      "execution_count": null,
      "outputs": []
    },
    {
      "cell_type": "code",
      "metadata": {
        "colab": {
          "base_uri": "https://localhost:8080/",
          "height": 233
        },
        "id": "wc1Y8IX8UgGh",
        "outputId": "c9468b1f-9cfc-4c4b-d31c-4f926a738fca"
      },
      "source": [
        "#Checando exclusão acima:\n",
        "dadosEnergia.head(2)"
      ],
      "execution_count": null,
      "outputs": [
        {
          "output_type": "execute_result",
          "data": {
            "text/html": [
              "<div>\n",
              "<style scoped>\n",
              "    .dataframe tbody tr th:only-of-type {\n",
              "        vertical-align: middle;\n",
              "    }\n",
              "\n",
              "    .dataframe tbody tr th {\n",
              "        vertical-align: top;\n",
              "    }\n",
              "\n",
              "    .dataframe thead th {\n",
              "        text-align: right;\n",
              "    }\n",
              "</style>\n",
              "<table border=\"1\" class=\"dataframe\">\n",
              "  <thead>\n",
              "    <tr style=\"text-align: right;\">\n",
              "      <th></th>\n",
              "      <th>time</th>\n",
              "      <th>generation biomass</th>\n",
              "      <th>generation fossil brown coal/lignite</th>\n",
              "      <th>generation fossil gas</th>\n",
              "      <th>generation fossil hard coal</th>\n",
              "      <th>generation fossil oil</th>\n",
              "      <th>generation hydro pumped storage consumption</th>\n",
              "      <th>generation hydro run-of-river and poundage</th>\n",
              "      <th>generation hydro water reservoir</th>\n",
              "      <th>generation nuclear</th>\n",
              "      <th>generation other</th>\n",
              "      <th>generation other renewable</th>\n",
              "      <th>generation solar</th>\n",
              "      <th>generation waste</th>\n",
              "      <th>generation wind onshore</th>\n",
              "      <th>forecast solar day ahead</th>\n",
              "      <th>forecast wind onshore day ahead</th>\n",
              "      <th>total load forecast</th>\n",
              "      <th>total load actual</th>\n",
              "      <th>price actual</th>\n",
              "    </tr>\n",
              "  </thead>\n",
              "  <tbody>\n",
              "    <tr>\n",
              "      <th>0</th>\n",
              "      <td>2014-12-31 23:00:00+00:00</td>\n",
              "      <td>447.0</td>\n",
              "      <td>329.0</td>\n",
              "      <td>4844.0</td>\n",
              "      <td>4821.0</td>\n",
              "      <td>162.0</td>\n",
              "      <td>863.0</td>\n",
              "      <td>1051.0</td>\n",
              "      <td>1899.0</td>\n",
              "      <td>7096.0</td>\n",
              "      <td>43.0</td>\n",
              "      <td>73.0</td>\n",
              "      <td>49.0</td>\n",
              "      <td>196.0</td>\n",
              "      <td>6378.0</td>\n",
              "      <td>17.0</td>\n",
              "      <td>6436.0</td>\n",
              "      <td>26118.0</td>\n",
              "      <td>25385.0</td>\n",
              "      <td>65.41</td>\n",
              "    </tr>\n",
              "    <tr>\n",
              "      <th>1</th>\n",
              "      <td>2015-01-01 00:00:00+00:00</td>\n",
              "      <td>449.0</td>\n",
              "      <td>328.0</td>\n",
              "      <td>5196.0</td>\n",
              "      <td>4755.0</td>\n",
              "      <td>158.0</td>\n",
              "      <td>920.0</td>\n",
              "      <td>1009.0</td>\n",
              "      <td>1658.0</td>\n",
              "      <td>7096.0</td>\n",
              "      <td>43.0</td>\n",
              "      <td>71.0</td>\n",
              "      <td>50.0</td>\n",
              "      <td>195.0</td>\n",
              "      <td>5890.0</td>\n",
              "      <td>16.0</td>\n",
              "      <td>5856.0</td>\n",
              "      <td>24934.0</td>\n",
              "      <td>24382.0</td>\n",
              "      <td>64.92</td>\n",
              "    </tr>\n",
              "  </tbody>\n",
              "</table>\n",
              "</div>"
            ],
            "text/plain": [
              "                       time  generation biomass  \\\n",
              "0 2014-12-31 23:00:00+00:00               447.0   \n",
              "1 2015-01-01 00:00:00+00:00               449.0   \n",
              "\n",
              "   generation fossil brown coal/lignite  generation fossil gas  \\\n",
              "0                                 329.0                 4844.0   \n",
              "1                                 328.0                 5196.0   \n",
              "\n",
              "   generation fossil hard coal  generation fossil oil  \\\n",
              "0                       4821.0                  162.0   \n",
              "1                       4755.0                  158.0   \n",
              "\n",
              "   generation hydro pumped storage consumption  \\\n",
              "0                                        863.0   \n",
              "1                                        920.0   \n",
              "\n",
              "   generation hydro run-of-river and poundage  \\\n",
              "0                                      1051.0   \n",
              "1                                      1009.0   \n",
              "\n",
              "   generation hydro water reservoir  generation nuclear  generation other  \\\n",
              "0                            1899.0              7096.0              43.0   \n",
              "1                            1658.0              7096.0              43.0   \n",
              "\n",
              "   generation other renewable  generation solar  generation waste  \\\n",
              "0                        73.0              49.0             196.0   \n",
              "1                        71.0              50.0             195.0   \n",
              "\n",
              "   generation wind onshore  forecast solar day ahead  \\\n",
              "0                   6378.0                      17.0   \n",
              "1                   5890.0                      16.0   \n",
              "\n",
              "   forecast wind onshore day ahead  total load forecast  total load actual  \\\n",
              "0                           6436.0              26118.0            25385.0   \n",
              "1                           5856.0              24934.0            24382.0   \n",
              "\n",
              "   price actual  \n",
              "0         65.41  \n",
              "1         64.92  "
            ]
          },
          "metadata": {
            "tags": []
          },
          "execution_count": 13
        }
      ]
    },
    {
      "cell_type": "code",
      "metadata": {
        "colab": {
          "base_uri": "https://localhost:8080/",
          "height": 282
        },
        "id": "VnrQJ4udjt1F",
        "outputId": "05c887ca-b7a1-4e76-a43e-224a06c5e681"
      },
      "source": [
        "#3. Visualizando dados faltantes no gráfico:\n",
        "x = dadosEnergia[:24*7]['time']  #24*7 = converte em time frame semanal\n",
        "y = dadosEnergia[:24*7]['generation biomass']  #informa a variável a ser visualizado com time frame semanal\n",
        "plt.figure(figsize=(16,4))\n",
        "plt.plot(x,y)"
      ],
      "execution_count": null,
      "outputs": [
        {
          "output_type": "execute_result",
          "data": {
            "text/plain": [
              "[<matplotlib.lines.Line2D at 0x7f091409ead0>]"
            ]
          },
          "metadata": {
            "tags": []
          },
          "execution_count": 14
        },
        {
          "output_type": "display_data",
          "data": {
            "image/png": "[encoded data removed]",
            "text/plain": [
              "<Figure size 1152x288 with 1 Axes>"
            ]
          },
          "metadata": {
            "tags": [],
            "needs_background": "light"
          }
        }
      ]
    },
    {
      "cell_type": "code",
      "metadata": {
        "id": "nyBpaPWekFU5"
      },
      "source": [
        ",#Substituir dados missing ainda existentes no dataset através de interpolação linear:\n",
        "dadosEnergia.interpolate(method='ffill', limit_direction='forward', inplace=True)"
      ],
      "execution_count": null,
      "outputs": []
    },
    {
      "cell_type": "code",
      "metadata": {
        "colab": {
          "base_uri": "https://localhost:8080/",
          "height": 282
        },
        "id": "RWvmhVSHmatG",
        "outputId": "f6dd9738-a3ac-4a60-8aae-ffe00176a2a2"
      },
      "source": [
        "#Visualizando gráfico após a interpolação:\n",
        "x = dadosEnergia[:24*7]['time']  #24*7 = converte em time frame semanal\n",
        "y = dadosEnergia[:24*7]['generation biomass']  #informa a variável a ser visualizado com time frame semanal\n",
        "plt.figure(figsize=(16,4))\n",
        "plt.plot(x,y)"
      ],
      "execution_count": null,
      "outputs": [
        {
          "output_type": "execute_result",
          "data": {
            "text/plain": [
              "[<matplotlib.lines.Line2D at 0x7f091cc63250>]"
            ]
          },
          "metadata": {
            "tags": []
          },
          "execution_count": 16
        },
        {
          "output_type": "display_data",
          "data": {
            "image/png": "[encoded data removed]",
            "text/plain": [
              "<Figure size 1152x288 with 1 Axes>"
            ]
          },
          "metadata": {
            "tags": [],
            "needs_background": "light"
          }
        }
      ]
    },
    {
      "cell_type": "markdown",
      "metadata": {
        "id": "k86ypthTnqs2"
      },
      "source": [
        "**Pré-processamento do segundo conjunto de dados(clima)**"
      ]
    },
    {
      "cell_type": "code",
      "metadata": {
        "colab": {
          "base_uri": "https://localhost:8080/",
          "height": 213
        },
        "id": "1UAmb7RUmkgU",
        "outputId": "770645ba-e8b5-4f81-f078-9835c22fbc8f"
      },
      "source": [
        "dadosClima.head(3)"
      ],
      "execution_count": null,
      "outputs": [
        {
          "output_type": "execute_result",
          "data": {
            "text/html": [
              "<div>\n",
              "<style scoped>\n",
              "    .dataframe tbody tr th:only-of-type {\n",
              "        vertical-align: middle;\n",
              "    }\n",
              "\n",
              "    .dataframe tbody tr th {\n",
              "        vertical-align: top;\n",
              "    }\n",
              "\n",
              "    .dataframe thead th {\n",
              "        text-align: right;\n",
              "    }\n",
              "</style>\n",
              "<table border=\"1\" class=\"dataframe\">\n",
              "  <thead>\n",
              "    <tr style=\"text-align: right;\">\n",
              "      <th></th>\n",
              "      <th>dt_iso</th>\n",
              "      <th>city_name</th>\n",
              "      <th>temp</th>\n",
              "      <th>temp_min</th>\n",
              "      <th>temp_max</th>\n",
              "      <th>pressure</th>\n",
              "      <th>humidity</th>\n",
              "      <th>wind_speed</th>\n",
              "      <th>wind_deg</th>\n",
              "      <th>rain_1h</th>\n",
              "      <th>rain_3h</th>\n",
              "      <th>snow_3h</th>\n",
              "      <th>clouds_all</th>\n",
              "      <th>weather_id</th>\n",
              "      <th>weather_main</th>\n",
              "      <th>weather_description</th>\n",
              "      <th>weather_icon</th>\n",
              "    </tr>\n",
              "  </thead>\n",
              "  <tbody>\n",
              "    <tr>\n",
              "      <th>0</th>\n",
              "      <td>2015-01-01 00:00:00+01:00</td>\n",
              "      <td>Valencia</td>\n",
              "      <td>270.475</td>\n",
              "      <td>270.475</td>\n",
              "      <td>270.475</td>\n",
              "      <td>1001</td>\n",
              "      <td>77</td>\n",
              "      <td>1</td>\n",
              "      <td>62</td>\n",
              "      <td>0.0</td>\n",
              "      <td>0.0</td>\n",
              "      <td>0.0</td>\n",
              "      <td>0</td>\n",
              "      <td>800</td>\n",
              "      <td>clear</td>\n",
              "      <td>sky is clear</td>\n",
              "      <td>01n</td>\n",
              "    </tr>\n",
              "    <tr>\n",
              "      <th>1</th>\n",
              "      <td>2015-01-01 01:00:00+01:00</td>\n",
              "      <td>Valencia</td>\n",
              "      <td>270.475</td>\n",
              "      <td>270.475</td>\n",
              "      <td>270.475</td>\n",
              "      <td>1001</td>\n",
              "      <td>77</td>\n",
              "      <td>1</td>\n",
              "      <td>62</td>\n",
              "      <td>0.0</td>\n",
              "      <td>0.0</td>\n",
              "      <td>0.0</td>\n",
              "      <td>0</td>\n",
              "      <td>800</td>\n",
              "      <td>clear</td>\n",
              "      <td>sky is clear</td>\n",
              "      <td>01n</td>\n",
              "    </tr>\n",
              "    <tr>\n",
              "      <th>2</th>\n",
              "      <td>2015-01-01 02:00:00+01:00</td>\n",
              "      <td>Valencia</td>\n",
              "      <td>269.686</td>\n",
              "      <td>269.686</td>\n",
              "      <td>269.686</td>\n",
              "      <td>1002</td>\n",
              "      <td>78</td>\n",
              "      <td>0</td>\n",
              "      <td>23</td>\n",
              "      <td>0.0</td>\n",
              "      <td>0.0</td>\n",
              "      <td>0.0</td>\n",
              "      <td>0</td>\n",
              "      <td>800</td>\n",
              "      <td>clear</td>\n",
              "      <td>sky is clear</td>\n",
              "      <td>01n</td>\n",
              "    </tr>\n",
              "  </tbody>\n",
              "</table>\n",
              "</div>"
            ],
            "text/plain": [
              "                      dt_iso city_name     temp  temp_min  temp_max  pressure  \\\n",
              "0  2015-01-01 00:00:00+01:00  Valencia  270.475   270.475   270.475      1001   \n",
              "1  2015-01-01 01:00:00+01:00  Valencia  270.475   270.475   270.475      1001   \n",
              "2  2015-01-01 02:00:00+01:00  Valencia  269.686   269.686   269.686      1002   \n",
              "\n",
              "   humidity  wind_speed  wind_deg  rain_1h  rain_3h  snow_3h  clouds_all  \\\n",
              "0        77           1        62      0.0      0.0      0.0           0   \n",
              "1        77           1        62      0.0      0.0      0.0           0   \n",
              "2        78           0        23      0.0      0.0      0.0           0   \n",
              "\n",
              "   weather_id weather_main weather_description weather_icon  \n",
              "0         800        clear        sky is clear          01n  \n",
              "1         800        clear        sky is clear          01n  \n",
              "2         800        clear        sky is clear          01n  "
            ]
          },
          "metadata": {
            "tags": []
          },
          "execution_count": 17
        }
      ]
    },
    {
      "cell_type": "code",
      "metadata": {
        "colab": {
          "base_uri": "https://localhost:8080/"
        },
        "id": "_J5iAOqknt9U",
        "outputId": "945b2aad-68d2-42f9-f8e0-4418cb0f648c"
      },
      "source": [
        "#Visualizando dados clima:\n",
        "dadosClima.dtypes"
      ],
      "execution_count": null,
      "outputs": [
        {
          "output_type": "execute_result",
          "data": {
            "text/plain": [
              "dt_iso                  object\n",
              "city_name               object\n",
              "temp                   float64\n",
              "temp_min               float64\n",
              "temp_max               float64\n",
              "pressure                 int64\n",
              "humidity                 int64\n",
              "wind_speed               int64\n",
              "wind_deg                 int64\n",
              "rain_1h                float64\n",
              "rain_3h                float64\n",
              "snow_3h                float64\n",
              "clouds_all               int64\n",
              "weather_id               int64\n",
              "weather_main            object\n",
              "weather_description     object\n",
              "weather_icon            object\n",
              "dtype: object"
            ]
          },
          "metadata": {
            "tags": []
          },
          "execution_count": 18
        }
      ]
    },
    {
      "cell_type": "code",
      "metadata": {
        "id": "srVwSiM5pm3x"
      },
      "source": [
        "#Ajustando dados de data (\"dt_iso\") para formato adequado (date_time) e criando nova variável para armazenar este novo dado excluindo a antiga:\n",
        "dadosClima['time'] = pd.to_datetime(dadosClima['dt_iso'])\n",
        "dadosClima = dadosClima.drop(['dt_iso'], axis=1)"
      ],
      "execution_count": null,
      "outputs": []
    },
    {
      "cell_type": "code",
      "metadata": {
        "id": "qjdWl5_Ln_BP"
      },
      "source": [
        "#Convertendo dados int para float:\n",
        "colunasInt = dadosClima.select_dtypes(include=[np.int64]).columns #Seleciona as colunas do tipo int no dataset\n",
        "for coluna in colunasInt:\n",
        "  dadosClima[coluna].values.astype(np.float64)  #Converte cada coluna do tipo int para o formato float"
      ],
      "execution_count": null,
      "outputs": []
    },
    {
      "cell_type": "code",
      "metadata": {
        "colab": {
          "base_uri": "https://localhost:8080/"
        },
        "id": "irupNtlipMhL",
        "outputId": "65de2d48-5d37-44f1-958d-adddd404b531"
      },
      "source": [
        "dadosClima.dtypes"
      ],
      "execution_count": null,
      "outputs": [
        {
          "output_type": "execute_result",
          "data": {
            "text/plain": [
              "city_name               object\n",
              "temp                   float64\n",
              "temp_min               float64\n",
              "temp_max               float64\n",
              "pressure                 int64\n",
              "humidity                 int64\n",
              "wind_speed               int64\n",
              "wind_deg                 int64\n",
              "rain_1h                float64\n",
              "rain_3h                float64\n",
              "snow_3h                float64\n",
              "clouds_all               int64\n",
              "weather_id               int64\n",
              "weather_main            object\n",
              "weather_description     object\n",
              "weather_icon            object\n",
              "time                    object\n",
              "dtype: object"
            ]
          },
          "metadata": {
            "tags": []
          },
          "execution_count": 21
        }
      ]
    },
    {
      "cell_type": "code",
      "metadata": {
        "colab": {
          "base_uri": "https://localhost:8080/"
        },
        "id": "w7fz2x-UrJCQ",
        "outputId": "b4d8e0f7-f296-4967-9012-a9a0ed76034b"
      },
      "source": [
        "#Verificando variáveis do tipo object com 'unique'(lista os valores únicos de cada coluna):\n",
        "weather_description = dadosClima['weather_description'].unique()\n",
        "weather_description"
      ],
      "execution_count": null,
      "outputs": [
        {
          "output_type": "execute_result",
          "data": {
            "text/plain": [
              "array(['sky is clear', 'few clouds', 'scattered clouds', 'broken clouds',\n",
              "       'overcast clouds', 'light rain', 'moderate rain',\n",
              "       'heavy intensity rain', 'mist', 'heavy intensity shower rain',\n",
              "       'shower rain', 'very heavy rain', 'thunderstorm with heavy rain',\n",
              "       'thunderstorm with light rain', 'thunderstorm with rain',\n",
              "       'proximity thunderstorm', 'thunderstorm',\n",
              "       'light intensity shower rain', 'light intensity drizzle', 'fog',\n",
              "       'drizzle', 'smoke', 'heavy intensity drizzle', 'haze',\n",
              "       'proximity shower rain', 'light intensity drizzle rain',\n",
              "       'light snow', 'rain and snow', 'light rain and snow', 'snow',\n",
              "       'light thunderstorm', 'heavy snow', 'sleet', 'rain and drizzle',\n",
              "       'shower sleet', 'light shower sleet', 'light shower snow',\n",
              "       'proximity moderate rain', 'ragged shower rain',\n",
              "       'sand dust whirls', 'proximity drizzle', 'dust', 'squalls'],\n",
              "      dtype=object)"
            ]
          },
          "metadata": {
            "tags": []
          },
          "execution_count": 22
        }
      ]
    },
    {
      "cell_type": "code",
      "metadata": {
        "colab": {
          "base_uri": "https://localhost:8080/"
        },
        "id": "5YRvLd1GrXb2",
        "outputId": "50a71e5a-284e-4cb2-bda9-44c385ec5f55"
      },
      "source": [
        "weather_main = dadosClima['weather_main'].unique()\n",
        "weather_main"
      ],
      "execution_count": null,
      "outputs": [
        {
          "output_type": "execute_result",
          "data": {
            "text/plain": [
              "array(['clear', 'clouds', 'rain', 'mist', 'thunderstorm', 'drizzle',\n",
              "       'fog', 'smoke', 'haze', 'snow', 'dust', 'squall'], dtype=object)"
            ]
          },
          "metadata": {
            "tags": []
          },
          "execution_count": 23
        }
      ]
    },
    {
      "cell_type": "code",
      "metadata": {
        "colab": {
          "base_uri": "https://localhost:8080/"
        },
        "id": "lRV4mVEurXK_",
        "outputId": "f4d96a9d-1966-42bb-aec9-e634a1bc5db6"
      },
      "source": [
        "weather_icon = dadosClima['weather_icon'].unique()\n",
        "weather_icon"
      ],
      "execution_count": null,
      "outputs": [
        {
          "output_type": "execute_result",
          "data": {
            "text/plain": [
              "array(['01n', '01d', '01', '02n', '02d', '02', '03', '04n', '04', '10n',\n",
              "       '03n', '10', '04d', '03d', '10d', '50d', '09n', '11d', '11n',\n",
              "       '09d', '50n', '13d', '13n', '13'], dtype=object)"
            ]
          },
          "metadata": {
            "tags": []
          },
          "execution_count": 24
        }
      ]
    },
    {
      "cell_type": "code",
      "metadata": {
        "colab": {
          "base_uri": "https://localhost:8080/"
        },
        "id": "zpdn_7bwrXYX",
        "outputId": "c6dee9b4-0e33-4e0b-e4cb-c342cfdacf12"
      },
      "source": [
        "#Vendo a qtde de valores das maiores variáveis do tipo object:\n",
        "print(len(weather_description))\n",
        "print(len(weather_icon))\n",
        "print(len(weather_main))"
      ],
      "execution_count": null,
      "outputs": [
        {
          "output_type": "stream",
          "text": [
            "43\n",
            "24\n",
            "12\n"
          ],
          "name": "stdout"
        }
      ]
    },
    {
      "cell_type": "code",
      "metadata": {
        "colab": {
          "base_uri": "https://localhost:8080/"
        },
        "id": "0QfP9TYZpXBt",
        "outputId": "34d721a2-ad3c-42a9-aff3-64bfad06f5f8"
      },
      "source": [
        "#Verificando dados faltantes:\n",
        "dadosClima.isnull().sum()"
      ],
      "execution_count": null,
      "outputs": [
        {
          "output_type": "execute_result",
          "data": {
            "text/plain": [
              "city_name              0\n",
              "temp                   0\n",
              "temp_min               0\n",
              "temp_max               0\n",
              "pressure               0\n",
              "humidity               0\n",
              "wind_speed             0\n",
              "wind_deg               0\n",
              "rain_1h                0\n",
              "rain_3h                0\n",
              "snow_3h                0\n",
              "clouds_all             0\n",
              "weather_id             0\n",
              "weather_main           0\n",
              "weather_description    0\n",
              "weather_icon           0\n",
              "time                   0\n",
              "dtype: int64"
            ]
          },
          "metadata": {
            "tags": []
          },
          "execution_count": 26
        }
      ]
    },
    {
      "cell_type": "markdown",
      "metadata": {
        "id": "R09j2yQPshQn"
      },
      "source": [
        "Até o momento vimos que algums variáveis contendo muitos dados do tipo object são desnecessárias pois fornecem o mesmo tipo de informação. Logo, vamos manter apenas a coluna 'weather_description' que contém mais dados e nos fornece informações mais completas."
      ]
    },
    {
      "cell_type": "code",
      "metadata": {
        "id": "79ayXJa-q-k8"
      },
      "source": [
        "dadosClima = dadosClima.drop(['weather_icon', 'weather_main'], axis=1)"
      ],
      "execution_count": null,
      "outputs": []
    },
    {
      "cell_type": "code",
      "metadata": {
        "id": "mhQ93Zxav31M"
      },
      "source": [
        "# Removendo linhas duplicadas\n",
        "dadosClima = dadosClima.drop_duplicates(subset=['time', 'city_name'], keep='first')\n",
        "dadosClima = dadosClima.set_index('time') # colocando time como índice do dataset"
      ],
      "execution_count": null,
      "outputs": []
    },
    {
      "cell_type": "code",
      "metadata": {
        "id": "CN62Bd-6v31L",
        "colab": {
          "base_uri": "https://localhost:8080/"
        },
        "outputId": "dbf985b3-3f98-4b7e-da03-6afbc05cfd19"
      },
      "source": [
        "# Verificando quantas amostras há em cada cidade:\n",
        "clima_agrupado = dadosClima.groupby('city_name')\n",
        "nomes_cidades = dadosClima['city_name'].unique()\n",
        "for nome in nomes_cidades:\n",
        "    print(nome, clima_agrupado.get_group(nome).shape[0])\n",
        "print('Dataset Energia:', dadosEnergia.shape[0])"
      ],
      "execution_count": null,
      "outputs": [
        {
          "output_type": "stream",
          "text": [
            "Valencia 35064\n",
            "Madrid 35064\n",
            "Bilbao 35064\n",
            " Barcelona 35064\n",
            "Seville 35064\n",
            "Dataset Energia: 35064\n"
          ],
          "name": "stdout"
        }
      ]
    },
    {
      "cell_type": "code",
      "metadata": {
        "id": "L6aA6CpYv31N"
      },
      "source": [
        "# Aplicando label encoding na variável 'weather_description' para aplicação de modelos:\n",
        "from sklearn.preprocessing import LabelEncoder\n",
        "le = LabelEncoder()\n",
        "dadosClima['weather_description'] = le.fit_transform(dadosClima['weather_description'])"
      ],
      "execution_count": null,
      "outputs": []
    },
    {
      "cell_type": "code",
      "metadata": {
        "id": "TJlQ7FMEYD6E"
      },
      "source": [
        "dadosEnergia = dadosEnergia.set_index('time')\n",
        "dEnergia = dadosEnergia "
      ],
      "execution_count": null,
      "outputs": []
    },
    {
      "cell_type": "markdown",
      "metadata": {
        "id": "migWfAz6n-OO"
      },
      "source": [
        "**Unindo os dois dataframes**"
      ]
    },
    {
      "cell_type": "code",
      "metadata": {
        "colab": {
          "base_uri": "https://localhost:8080/",
          "height": 312
        },
        "id": "ArPvVxlj3KWc",
        "outputId": "1a0f8a86-774f-451c-84a4-65155538a14b"
      },
      "source": [
        "#Unindo os dois datasets com método 'join': une dfs diferentes preservando valores distintos dos índices de cada um com 'outer':\n",
        "dFinal = dEnergia.join(dadosClima, how='outer')\n",
        "dFinal.head(3)"
      ],
      "execution_count": null,
      "outputs": [
        {
          "output_type": "execute_result",
          "data": {
            "text/html": [
              "<div>\n",
              "<style scoped>\n",
              "    .dataframe tbody tr th:only-of-type {\n",
              "        vertical-align: middle;\n",
              "    }\n",
              "\n",
              "    .dataframe tbody tr th {\n",
              "        vertical-align: top;\n",
              "    }\n",
              "\n",
              "    .dataframe thead th {\n",
              "        text-align: right;\n",
              "    }\n",
              "</style>\n",
              "<table border=\"1\" class=\"dataframe\">\n",
              "  <thead>\n",
              "    <tr style=\"text-align: right;\">\n",
              "      <th></th>\n",
              "      <th>generation biomass</th>\n",
              "      <th>generation fossil brown coal/lignite</th>\n",
              "      <th>generation fossil gas</th>\n",
              "      <th>generation fossil hard coal</th>\n",
              "      <th>generation fossil oil</th>\n",
              "      <th>generation hydro pumped storage consumption</th>\n",
              "      <th>generation hydro run-of-river and poundage</th>\n",
              "      <th>generation hydro water reservoir</th>\n",
              "      <th>generation nuclear</th>\n",
              "      <th>generation other</th>\n",
              "      <th>generation other renewable</th>\n",
              "      <th>generation solar</th>\n",
              "      <th>generation waste</th>\n",
              "      <th>generation wind onshore</th>\n",
              "      <th>forecast solar day ahead</th>\n",
              "      <th>forecast wind onshore day ahead</th>\n",
              "      <th>total load forecast</th>\n",
              "      <th>total load actual</th>\n",
              "      <th>price actual</th>\n",
              "      <th>city_name</th>\n",
              "      <th>temp</th>\n",
              "      <th>temp_min</th>\n",
              "      <th>temp_max</th>\n",
              "      <th>pressure</th>\n",
              "      <th>humidity</th>\n",
              "      <th>wind_speed</th>\n",
              "      <th>wind_deg</th>\n",
              "      <th>rain_1h</th>\n",
              "      <th>rain_3h</th>\n",
              "      <th>snow_3h</th>\n",
              "      <th>clouds_all</th>\n",
              "      <th>weather_id</th>\n",
              "      <th>weather_description</th>\n",
              "    </tr>\n",
              "    <tr>\n",
              "      <th>time</th>\n",
              "      <th></th>\n",
              "      <th></th>\n",
              "      <th></th>\n",
              "      <th></th>\n",
              "      <th></th>\n",
              "      <th></th>\n",
              "      <th></th>\n",
              "      <th></th>\n",
              "      <th></th>\n",
              "      <th></th>\n",
              "      <th></th>\n",
              "      <th></th>\n",
              "      <th></th>\n",
              "      <th></th>\n",
              "      <th></th>\n",
              "      <th></th>\n",
              "      <th></th>\n",
              "      <th></th>\n",
              "      <th></th>\n",
              "      <th></th>\n",
              "      <th></th>\n",
              "      <th></th>\n",
              "      <th></th>\n",
              "      <th></th>\n",
              "      <th></th>\n",
              "      <th></th>\n",
              "      <th></th>\n",
              "      <th></th>\n",
              "      <th></th>\n",
              "      <th></th>\n",
              "      <th></th>\n",
              "      <th></th>\n",
              "      <th></th>\n",
              "    </tr>\n",
              "  </thead>\n",
              "  <tbody>\n",
              "    <tr>\n",
              "      <th>2014-12-31 23:00:00+00:00</th>\n",
              "      <td>447.0</td>\n",
              "      <td>329.0</td>\n",
              "      <td>4844.0</td>\n",
              "      <td>4821.0</td>\n",
              "      <td>162.0</td>\n",
              "      <td>863.0</td>\n",
              "      <td>1051.0</td>\n",
              "      <td>1899.0</td>\n",
              "      <td>7096.0</td>\n",
              "      <td>43.0</td>\n",
              "      <td>73.0</td>\n",
              "      <td>49.0</td>\n",
              "      <td>196.0</td>\n",
              "      <td>6378.0</td>\n",
              "      <td>17.0</td>\n",
              "      <td>6436.0</td>\n",
              "      <td>26118.0</td>\n",
              "      <td>25385.0</td>\n",
              "      <td>65.41</td>\n",
              "      <td>Valencia</td>\n",
              "      <td>270.475000</td>\n",
              "      <td>270.475000</td>\n",
              "      <td>270.475000</td>\n",
              "      <td>1001</td>\n",
              "      <td>77</td>\n",
              "      <td>1</td>\n",
              "      <td>62</td>\n",
              "      <td>0.0</td>\n",
              "      <td>0.0</td>\n",
              "      <td>0.0</td>\n",
              "      <td>0</td>\n",
              "      <td>800</td>\n",
              "      <td>31</td>\n",
              "    </tr>\n",
              "    <tr>\n",
              "      <th>2014-12-31 23:00:00+00:00</th>\n",
              "      <td>447.0</td>\n",
              "      <td>329.0</td>\n",
              "      <td>4844.0</td>\n",
              "      <td>4821.0</td>\n",
              "      <td>162.0</td>\n",
              "      <td>863.0</td>\n",
              "      <td>1051.0</td>\n",
              "      <td>1899.0</td>\n",
              "      <td>7096.0</td>\n",
              "      <td>43.0</td>\n",
              "      <td>73.0</td>\n",
              "      <td>49.0</td>\n",
              "      <td>196.0</td>\n",
              "      <td>6378.0</td>\n",
              "      <td>17.0</td>\n",
              "      <td>6436.0</td>\n",
              "      <td>26118.0</td>\n",
              "      <td>25385.0</td>\n",
              "      <td>65.41</td>\n",
              "      <td>Madrid</td>\n",
              "      <td>267.325000</td>\n",
              "      <td>267.325000</td>\n",
              "      <td>267.325000</td>\n",
              "      <td>971</td>\n",
              "      <td>63</td>\n",
              "      <td>1</td>\n",
              "      <td>309</td>\n",
              "      <td>0.0</td>\n",
              "      <td>0.0</td>\n",
              "      <td>0.0</td>\n",
              "      <td>0</td>\n",
              "      <td>800</td>\n",
              "      <td>31</td>\n",
              "    </tr>\n",
              "    <tr>\n",
              "      <th>2014-12-31 23:00:00+00:00</th>\n",
              "      <td>447.0</td>\n",
              "      <td>329.0</td>\n",
              "      <td>4844.0</td>\n",
              "      <td>4821.0</td>\n",
              "      <td>162.0</td>\n",
              "      <td>863.0</td>\n",
              "      <td>1051.0</td>\n",
              "      <td>1899.0</td>\n",
              "      <td>7096.0</td>\n",
              "      <td>43.0</td>\n",
              "      <td>73.0</td>\n",
              "      <td>49.0</td>\n",
              "      <td>196.0</td>\n",
              "      <td>6378.0</td>\n",
              "      <td>17.0</td>\n",
              "      <td>6436.0</td>\n",
              "      <td>26118.0</td>\n",
              "      <td>25385.0</td>\n",
              "      <td>65.41</td>\n",
              "      <td>Bilbao</td>\n",
              "      <td>269.657312</td>\n",
              "      <td>269.657312</td>\n",
              "      <td>269.657312</td>\n",
              "      <td>1036</td>\n",
              "      <td>97</td>\n",
              "      <td>0</td>\n",
              "      <td>226</td>\n",
              "      <td>0.0</td>\n",
              "      <td>0.0</td>\n",
              "      <td>0.0</td>\n",
              "      <td>0</td>\n",
              "      <td>800</td>\n",
              "      <td>31</td>\n",
              "    </tr>\n",
              "  </tbody>\n",
              "</table>\n",
              "</div>"
            ],
            "text/plain": [
              "                           generation biomass  \\\n",
              "time                                            \n",
              "2014-12-31 23:00:00+00:00               447.0   \n",
              "2014-12-31 23:00:00+00:00               447.0   \n",
              "2014-12-31 23:00:00+00:00               447.0   \n",
              "\n",
              "                           generation fossil brown coal/lignite  \\\n",
              "time                                                              \n",
              "2014-12-31 23:00:00+00:00                                 329.0   \n",
              "2014-12-31 23:00:00+00:00                                 329.0   \n",
              "2014-12-31 23:00:00+00:00                                 329.0   \n",
              "\n",
              "                           generation fossil gas  generation fossil hard coal  \\\n",
              "time                                                                            \n",
              "2014-12-31 23:00:00+00:00                 4844.0                       4821.0   \n",
              "2014-12-31 23:00:00+00:00                 4844.0                       4821.0   \n",
              "2014-12-31 23:00:00+00:00                 4844.0                       4821.0   \n",
              "\n",
              "                           generation fossil oil  \\\n",
              "time                                               \n",
              "2014-12-31 23:00:00+00:00                  162.0   \n",
              "2014-12-31 23:00:00+00:00                  162.0   \n",
              "2014-12-31 23:00:00+00:00                  162.0   \n",
              "\n",
              "                           generation hydro pumped storage consumption  \\\n",
              "time                                                                     \n",
              "2014-12-31 23:00:00+00:00                                        863.0   \n",
              "2014-12-31 23:00:00+00:00                                        863.0   \n",
              "2014-12-31 23:00:00+00:00                                        863.0   \n",
              "\n",
              "                           generation hydro run-of-river and poundage  \\\n",
              "time                                                                    \n",
              "2014-12-31 23:00:00+00:00                                      1051.0   \n",
              "2014-12-31 23:00:00+00:00                                      1051.0   \n",
              "2014-12-31 23:00:00+00:00                                      1051.0   \n",
              "\n",
              "                           generation hydro water reservoir  \\\n",
              "time                                                          \n",
              "2014-12-31 23:00:00+00:00                            1899.0   \n",
              "2014-12-31 23:00:00+00:00                            1899.0   \n",
              "2014-12-31 23:00:00+00:00                            1899.0   \n",
              "\n",
              "                           generation nuclear  generation other  \\\n",
              "time                                                              \n",
              "2014-12-31 23:00:00+00:00              7096.0              43.0   \n",
              "2014-12-31 23:00:00+00:00              7096.0              43.0   \n",
              "2014-12-31 23:00:00+00:00              7096.0              43.0   \n",
              "\n",
              "                           generation other renewable  generation solar  \\\n",
              "time                                                                      \n",
              "2014-12-31 23:00:00+00:00                        73.0              49.0   \n",
              "2014-12-31 23:00:00+00:00                        73.0              49.0   \n",
              "2014-12-31 23:00:00+00:00                        73.0              49.0   \n",
              "\n",
              "                           generation waste  generation wind onshore  \\\n",
              "time                                                                   \n",
              "2014-12-31 23:00:00+00:00             196.0                   6378.0   \n",
              "2014-12-31 23:00:00+00:00             196.0                   6378.0   \n",
              "2014-12-31 23:00:00+00:00             196.0                   6378.0   \n",
              "\n",
              "                           forecast solar day ahead  \\\n",
              "time                                                  \n",
              "2014-12-31 23:00:00+00:00                      17.0   \n",
              "2014-12-31 23:00:00+00:00                      17.0   \n",
              "2014-12-31 23:00:00+00:00                      17.0   \n",
              "\n",
              "                           forecast wind onshore day ahead  \\\n",
              "time                                                         \n",
              "2014-12-31 23:00:00+00:00                           6436.0   \n",
              "2014-12-31 23:00:00+00:00                           6436.0   \n",
              "2014-12-31 23:00:00+00:00                           6436.0   \n",
              "\n",
              "                           total load forecast  total load actual  \\\n",
              "time                                                                \n",
              "2014-12-31 23:00:00+00:00              26118.0            25385.0   \n",
              "2014-12-31 23:00:00+00:00              26118.0            25385.0   \n",
              "2014-12-31 23:00:00+00:00              26118.0            25385.0   \n",
              "\n",
              "                           price actual city_name        temp    temp_min  \\\n",
              "time                                                                        \n",
              "2014-12-31 23:00:00+00:00         65.41  Valencia  270.475000  270.475000   \n",
              "2014-12-31 23:00:00+00:00         65.41    Madrid  267.325000  267.325000   \n",
              "2014-12-31 23:00:00+00:00         65.41    Bilbao  269.657312  269.657312   \n",
              "\n",
              "                             temp_max  pressure  humidity  wind_speed  \\\n",
              "time                                                                    \n",
              "2014-12-31 23:00:00+00:00  270.475000      1001        77           1   \n",
              "2014-12-31 23:00:00+00:00  267.325000       971        63           1   \n",
              "2014-12-31 23:00:00+00:00  269.657312      1036        97           0   \n",
              "\n",
              "                           wind_deg  rain_1h  rain_3h  snow_3h  clouds_all  \\\n",
              "time                                                                         \n",
              "2014-12-31 23:00:00+00:00        62      0.0      0.0      0.0           0   \n",
              "2014-12-31 23:00:00+00:00       309      0.0      0.0      0.0           0   \n",
              "2014-12-31 23:00:00+00:00       226      0.0      0.0      0.0           0   \n",
              "\n",
              "                           weather_id  weather_description  \n",
              "time                                                        \n",
              "2014-12-31 23:00:00+00:00         800                   31  \n",
              "2014-12-31 23:00:00+00:00         800                   31  \n",
              "2014-12-31 23:00:00+00:00         800                   31  "
            ]
          },
          "metadata": {
            "tags": []
          },
          "execution_count": 32
        }
      ]
    },
    {
      "cell_type": "code",
      "metadata": {
        "colab": {
          "base_uri": "https://localhost:8080/"
        },
        "id": "Rvb9-WBJ3_BC",
        "outputId": "00e00cb5-6dfa-404a-c20d-01286e9cb8e6"
      },
      "source": [
        "#Checando se valores faltantes foram inseridos no novo dataset:\n",
        "dFinal.isnull().sum()"
      ],
      "execution_count": null,
      "outputs": [
        {
          "output_type": "execute_result",
          "data": {
            "text/plain": [
              "generation biomass                             0\n",
              "generation fossil brown coal/lignite           0\n",
              "generation fossil gas                          0\n",
              "generation fossil hard coal                    0\n",
              "generation fossil oil                          0\n",
              "generation hydro pumped storage consumption    0\n",
              "generation hydro run-of-river and poundage     0\n",
              "generation hydro water reservoir               0\n",
              "generation nuclear                             0\n",
              "generation other                               0\n",
              "generation other renewable                     0\n",
              "generation solar                               0\n",
              "generation waste                               0\n",
              "generation wind onshore                        0\n",
              "forecast solar day ahead                       0\n",
              "forecast wind onshore day ahead                0\n",
              "total load forecast                            0\n",
              "total load actual                              0\n",
              "price actual                                   0\n",
              "city_name                                      0\n",
              "temp                                           0\n",
              "temp_min                                       0\n",
              "temp_max                                       0\n",
              "pressure                                       0\n",
              "humidity                                       0\n",
              "wind_speed                                     0\n",
              "wind_deg                                       0\n",
              "rain_1h                                        0\n",
              "rain_3h                                        0\n",
              "snow_3h                                        0\n",
              "clouds_all                                     0\n",
              "weather_id                                     0\n",
              "weather_description                            0\n",
              "dtype: int64"
            ]
          },
          "metadata": {
            "tags": []
          },
          "execution_count": 33
        }
      ]
    },
    {
      "cell_type": "code",
      "metadata": {
        "colab": {
          "base_uri": "https://localhost:8080/"
        },
        "id": "igBwnIUpwdbP",
        "outputId": "d925df15-1f3e-4816-88a0-499fac0a25d8"
      },
      "source": [
        "dFinal.shape"
      ],
      "execution_count": null,
      "outputs": [
        {
          "output_type": "execute_result",
          "data": {
            "text/plain": [
              "(175320, 33)"
            ]
          },
          "metadata": {
            "tags": []
          },
          "execution_count": 34
        }
      ]
    },
    {
      "cell_type": "code",
      "metadata": {
        "id": "k1PlFpURwdM1"
      },
      "source": [
        ""
      ],
      "execution_count": null,
      "outputs": []
    },
    {
      "cell_type": "markdown",
      "metadata": {
        "id": "WCbED4VM4Yf7"
      },
      "source": [
        "**FIM**"
      ]
    }
  ]
}