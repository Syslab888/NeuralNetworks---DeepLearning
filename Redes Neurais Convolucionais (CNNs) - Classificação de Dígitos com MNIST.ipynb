{
  "nbformat": 4,
  "nbformat_minor": 0,
  "metadata": {
    "colab": {
      "name": "Redes Neurais Convolucionais (CNNs) - Classificação de Dígitos com MNIST.ipynb",
      "provenance": [],
      "collapsed_sections": []
    },
    "kernelspec": {
      "display_name": "Python 3",
      "language": "python",
      "name": "python3"
    },
    "language_info": {
      "codemirror_mode": {
        "name": "ipython",
        "version": 3
      },
      "file_extension": ".py",
      "mimetype": "text/x-python",
      "name": "python",
      "nbconvert_exporter": "python",
      "pygments_lexer": "ipython3",
      "version": "3.8.5"
    }
  },
  "cells": [
    {
      "cell_type": "markdown",
      "metadata": {
        "id": "UyYrVa8hfeOX"
      },
      "source": [
        "# CNNs - CLASSIFICAÇÃO DE DÍGITOS COM MNIST"
      ]
    },
    {
      "cell_type": "markdown",
      "metadata": {
        "id": "QQNyJYLq5Pzg"
      },
      "source": [
        "OBJETIVO: Criar e treinar uma Rede Neural Convolucional (CNN) para classificação de dígitos utilizando a biblioteca MNIST."
      ]
    },
    {
      "cell_type": "code",
      "metadata": {
        "id": "V5AInF-tfHPh",
        "colab": {
          "base_uri": "https://localhost:8080/"
        },
        "outputId": "0bf44643-b8dd-4b67-b63c-1f5a48160a5e"
      },
      "source": [
        "import tensorflow as tf\n",
        "import keras\n",
        "from keras.datasets import mnist\n",
        "\n",
        "(x_treino, y_treino), (x_teste, y_teste) = mnist.load_data()"
      ],
      "execution_count": 1,
      "outputs": [
        {
          "output_type": "stream",
          "text": [
            "Downloading data from https://storage.googleapis.com/tensorflow/tf-keras-datasets/mnist.npz\n",
            "11493376/11490434 [==============================] - 0s 0us/step\n"
          ],
          "name": "stdout"
        }
      ]
    },
    {
      "cell_type": "code",
      "metadata": {
        "colab": {
          "base_uri": "https://localhost:8080/"
        },
        "id": "bONrxbO_7wHO",
        "outputId": "6c7a15d6-efb8-40c0-d194-114340440dcf"
      },
      "source": [
        "x_treino.shape"
      ],
      "execution_count": 2,
      "outputs": [
        {
          "output_type": "execute_result",
          "data": {
            "text/plain": [
              "(60000, 28, 28)"
            ]
          },
          "metadata": {
            "tags": []
          },
          "execution_count": 2
        }
      ]
    },
    {
      "cell_type": "code",
      "metadata": {
        "colab": {
          "base_uri": "https://localhost:8080/"
        },
        "id": "083Uf6wD82hZ",
        "outputId": "f8134741-0e5d-4c90-f77a-1aaa24bfe676"
      },
      "source": [
        "x_teste.shape"
      ],
      "execution_count": 3,
      "outputs": [
        {
          "output_type": "execute_result",
          "data": {
            "text/plain": [
              "(10000, 28, 28)"
            ]
          },
          "metadata": {
            "tags": []
          },
          "execution_count": 3
        }
      ]
    },
    {
      "cell_type": "code",
      "metadata": {
        "id": "Z6lgE7jY8HCm"
      },
      "source": [
        "#One hot encoding:\n",
        "from keras.utils import to_categorical\n",
        "y_treino = to_categorical(y_treino)\n",
        "y_teste = to_categorical(y_teste)"
      ],
      "execution_count": 4,
      "outputs": []
    },
    {
      "cell_type": "code",
      "metadata": {
        "id": "0fWgyOst8Y7K"
      },
      "source": [
        "#No modelo Conv2d preciso passar 3 dimensões na entrada: para altura, largura e padrão de cores.\n",
        "x_treino = x_treino.reshape(60000, 28, 28, 1)  #(tamanho, largura, altura e padrão de cores). 1= escala de cinza\n",
        "x_teste = x_teste.reshape(10000, 28, 28, 1)    #(tamanho, largura, altura e padrão de cores). 1 = escala de cinza"
      ],
      "execution_count": 5,
      "outputs": []
    },
    {
      "cell_type": "code",
      "metadata": {
        "id": "EL6l5vRPhFiw"
      },
      "source": [
        "#Importando bibliotecas:\n",
        "from keras.models import Sequential\n",
        "from keras.layers import Dense, Dropout, Conv2D, Flatten, MaxPooling2D  "
      ],
      "execution_count": 6,
      "outputs": []
    },
    {
      "cell_type": "code",
      "metadata": {
        "id": "xzAjWV1w87MA"
      },
      "source": [
        "#Criando a CNN(híbrida):\n",
        "modelo = Sequential()\n",
        "\n",
        "modelo.add(Conv2D(filters=32, kernel_size=5, activation='relu', input_shape=(28,28,1))) #Filters: nº de filtros, kernel_size=dimensão dos filtros(5 = 5x5)\n",
        "modelo.add(MaxPooling2D(pool_size=(2, 2), strides=None, padding='same')) #padding='valid' (desativado), padding='same'(ativado)\n",
        "modelo.add(Conv2D(filters=32, kernel_size=5, activation='relu'))\n",
        "modelo.add(MaxPooling2D(pool_size=(2,2), strides=None, padding='same'))\n",
        "modelo.add(Flatten())\n",
        "modelo.add(Dense(80, kernel_initializer='normal', activation='relu'))\n",
        "modelo.add(Dropout(0.2))\n",
        "modelo.add(Dense(10, kernel_initializer='normal', activation='softmax'))"
      ],
      "execution_count": 7,
      "outputs": []
    },
    {
      "cell_type": "code",
      "metadata": {
        "id": "aD0HGQjQ9Slf"
      },
      "source": [
        "#Compilando o modelo com otimizador e função de custo:\n",
        "modelo.compile(optimizer='adam', loss='categorical_crossentropy', metrics=['accuracy']) #categorigcal_crossentropy: entropia cruzada"
      ],
      "execution_count": 8,
      "outputs": []
    },
    {
      "cell_type": "code",
      "metadata": {
        "colab": {
          "base_uri": "https://localhost:8080/"
        },
        "id": "UweeBAqJCmfZ",
        "outputId": "9f87e1b3-633b-4c3d-c6f2-9715c11ed961"
      },
      "source": [
        "#Aplicando modelo para treino:\n",
        "testes = modelo.fit(x_treino, y_treino, batch_size=200, epochs=10, validation_data=(x_teste, y_teste), verbose=1)"
      ],
      "execution_count": 9,
      "outputs": [
        {
          "output_type": "stream",
          "text": [
            "Epoch 1/10\n",
            "300/300 [==============================] - 43s 142ms/step - loss: 1.5618 - accuracy: 0.7434 - val_loss: 0.0739 - val_accuracy: 0.9764\n",
            "Epoch 2/10\n",
            "300/300 [==============================] - 42s 141ms/step - loss: 0.0921 - accuracy: 0.9719 - val_loss: 0.0567 - val_accuracy: 0.9808\n",
            "Epoch 3/10\n",
            "300/300 [==============================] - 42s 140ms/step - loss: 0.0606 - accuracy: 0.9811 - val_loss: 0.0398 - val_accuracy: 0.9884\n",
            "Epoch 4/10\n",
            "300/300 [==============================] - 42s 139ms/step - loss: 0.0440 - accuracy: 0.9855 - val_loss: 0.0411 - val_accuracy: 0.9876\n",
            "Epoch 5/10\n",
            "300/300 [==============================] - 42s 139ms/step - loss: 0.0373 - accuracy: 0.9882 - val_loss: 0.0376 - val_accuracy: 0.9879\n",
            "Epoch 6/10\n",
            "300/300 [==============================] - 42s 140ms/step - loss: 0.0344 - accuracy: 0.9889 - val_loss: 0.0362 - val_accuracy: 0.9888\n",
            "Epoch 7/10\n",
            "300/300 [==============================] - 42s 140ms/step - loss: 0.0301 - accuracy: 0.9906 - val_loss: 0.0347 - val_accuracy: 0.9894\n",
            "Epoch 8/10\n",
            "300/300 [==============================] - 42s 140ms/step - loss: 0.0238 - accuracy: 0.9920 - val_loss: 0.0380 - val_accuracy: 0.9884\n",
            "Epoch 9/10\n",
            "300/300 [==============================] - 42s 139ms/step - loss: 0.0215 - accuracy: 0.9927 - val_loss: 0.0322 - val_accuracy: 0.9905\n",
            "Epoch 10/10\n",
            "300/300 [==============================] - 42s 139ms/step - loss: 0.0207 - accuracy: 0.9931 - val_loss: 0.0313 - val_accuracy: 0.9910\n"
          ],
          "name": "stdout"
        }
      ]
    },
    {
      "cell_type": "code",
      "metadata": {
        "colab": {
          "base_uri": "https://localhost:8080/",
          "height": 279
        },
        "id": "Armb41xYEleL",
        "outputId": "99661126-724b-42a0-e30e-6a64445ba700"
      },
      "source": [
        "#Comparando acurácia dos dados de treino e dos dados de teste:\n",
        "import matplotlib.pyplot as plt\n",
        "\n",
        "acuracia_treino = testes.history['accuracy']\n",
        "acuracia_teste = testes.history['val_accuracy']\n",
        "\n",
        "epochs = range(1,len(acuracia_treino)+1) #Começa-se com 1 ao invés de 0 e soma-se mais 1 ja que em python o range vai de 0 a 39.\n",
        "\n",
        "plt.plot(epochs, acuracia_treino, '-g', label='Acurácia Dados de Treino')   #-g: green/marcador ., -b: blue/marcador -\n",
        "plt.plot(epochs, acuracia_teste, '-b', label='Acurácia Dados de Teste')\n",
        "plt.legend()\n",
        "plt.xlabel('Rodadas de Iteração (Epochs)')\n",
        "plt.ylabel('Acurácia')\n",
        "plt.show()"
      ],
      "execution_count": 10,
      "outputs": [
        {
          "output_type": "display_data",
          "data": {
            "image/png": "[encoded data removed]",
            "text/plain": [
              "<Figure size 432x288 with 1 Axes>"
            ]
          },
          "metadata": {
            "tags": [],
            "needs_background": "light"
          }
        }
      ]
    },
    {
      "cell_type": "code",
      "metadata": {
        "id": "_7EKi5q0k-8L"
      },
      "source": [
        ""
      ],
      "execution_count": 10,
      "outputs": []
    }
  ]
}