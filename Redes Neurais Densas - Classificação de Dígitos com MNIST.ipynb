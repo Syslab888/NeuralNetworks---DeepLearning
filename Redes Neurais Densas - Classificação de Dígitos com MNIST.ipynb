{
 "cells": [
  {
   "cell_type": "markdown",
   "metadata": {
    "id": "6K3d7nziS_s8"
   },
   "source": [
    "\n",
    "# Redes Neurais Densas - Classificação de Dígitos com MNIST"
   ]
  },
  {
   "cell_type": "markdown",
   "metadata": {},
   "source": [
    "OBJETIVO: Criar e treinar uma Rede Neural Densa para classificação de imagens utilizando a biblioteca MNIST."
   ]
  },
  {
   "cell_type": "code",
   "execution_count": 1,
   "metadata": {
    "executionInfo": {
     "elapsed": 2438,
     "status": "ok",
     "timestamp": 1616679455120,
     "user": {
      "displayName": "Sylvia DS",
      "photoUrl": "https://lh3.googleusercontent.com/a-/AOh14GiSFJz9aFktQr3xoujaR0qURWV_9GBz5Gjebvuy=s64",
      "userId": "10768086266314439635"
     },
     "user_tz": 180
    },
    "id": "lSpS2cgBS5yK"
   },
   "outputs": [],
   "source": [
    "import keras\n",
    "from keras.datasets import mnist\n",
    "import warnings\n",
    "warnings.filterwarnings('ignore')"
   ]
  },
  {
   "cell_type": "code",
   "execution_count": 2,
   "metadata": {
    "executionInfo": {
     "elapsed": 2764,
     "status": "ok",
     "timestamp": 1616679455484,
     "user": {
      "displayName": "Sylvia DS",
      "photoUrl": "https://lh3.googleusercontent.com/a-/AOh14GiSFJz9aFktQr3xoujaR0qURWV_9GBz5Gjebvuy=s64",
      "userId": "10768086266314439635"
     },
     "user_tz": 180
    },
    "id": "uWwPWHZhUCuj"
   },
   "outputs": [],
   "source": [
    "(x_treino, y_treino), (x_teste, y_teste) = mnist.load_data()"
   ]
  },
  {
   "cell_type": "code",
   "execution_count": 3,
   "metadata": {
    "executionInfo": {
     "elapsed": 2773,
     "status": "ok",
     "timestamp": 1616679455502,
     "user": {
      "displayName": "Sylvia DS",
      "photoUrl": "https://lh3.googleusercontent.com/a-/AOh14GiSFJz9aFktQr3xoujaR0qURWV_9GBz5Gjebvuy=s64",
      "userId": "10768086266314439635"
     },
     "user_tz": 180
    },
    "id": "jT_ti0VNUgLJ"
   },
   "outputs": [],
   "source": [
    "from keras.utils import to_categorical\n",
    "y_matrizTreino = to_categorical(y_treino)\n",
    "y_matrizTeste = to_categorical(y_teste)"
   ]
  },
  {
   "cell_type": "code",
   "execution_count": 4,
   "metadata": {
    "colab": {
     "base_uri": "https://localhost:8080/"
    },
    "executionInfo": {
     "elapsed": 2730,
     "status": "ok",
     "timestamp": 1616679455516,
     "user": {
      "displayName": "Sylvia DS",
      "photoUrl": "https://lh3.googleusercontent.com/a-/AOh14GiSFJz9aFktQr3xoujaR0qURWV_9GBz5Gjebvuy=s64",
      "userId": "10768086266314439635"
     },
     "user_tz": 180
    },
    "id": "984d4k4MUyI7",
    "outputId": "fbe095f5-c42d-4b2b-c2a8-1e0d7a0c2e68"
   },
   "outputs": [
    {
     "data": {
      "text/plain": [
       "(60000, 28, 28)"
      ]
     },
     "execution_count": 4,
     "metadata": {
      "tags": []
     },
     "output_type": "execute_result"
    }
   ],
   "source": [
    "x_treino.shape"
   ]
  },
  {
   "cell_type": "code",
   "execution_count": 5,
   "metadata": {
    "colab": {
     "base_uri": "https://localhost:8080/"
    },
    "executionInfo": {
     "elapsed": 2715,
     "status": "ok",
     "timestamp": 1616679455525,
     "user": {
      "displayName": "Sylvia DS",
      "photoUrl": "https://lh3.googleusercontent.com/a-/AOh14GiSFJz9aFktQr3xoujaR0qURWV_9GBz5Gjebvuy=s64",
      "userId": "10768086266314439635"
     },
     "user_tz": 180
    },
    "id": "wdU89cl3U74x",
    "outputId": "31146209-b159-4678-f890-dcae61679eca"
   },
   "outputs": [
    {
     "data": {
      "text/plain": [
       "(10000, 28, 28)"
      ]
     },
     "execution_count": 5,
     "metadata": {
      "tags": []
     },
     "output_type": "execute_result"
    }
   ],
   "source": [
    "x_teste.shape"
   ]
  },
  {
   "cell_type": "code",
   "execution_count": 6,
   "metadata": {
    "colab": {
     "base_uri": "https://localhost:8080/",
     "height": 282
    },
    "executionInfo": {
     "elapsed": 2631,
     "status": "ok",
     "timestamp": 1616679455530,
     "user": {
      "displayName": "Sylvia DS",
      "photoUrl": "https://lh3.googleusercontent.com/a-/AOh14GiSFJz9aFktQr3xoujaR0qURWV_9GBz5Gjebvuy=s64",
      "userId": "10768086266314439635"
     },
     "user_tz": 180
    },
    "id": "OiWRQjgrWeV9",
    "outputId": "616a8515-1ad4-4903-be1b-a0b4750c30e4"
   },
   "outputs": [
    {
     "data": {
      "text/plain": [
       "<matplotlib.image.AxesImage at 0x7f0b24911810>"
      ]
     },
     "execution_count": 6,
     "metadata": {
      "tags": []
     },
     "output_type": "execute_result"
    },
    {
     "data": {
      "image/png": "[encoded data removed]",
      "text/plain": [
       "<Figure size 432x288 with 1 Axes>"
      ]
     },
     "metadata": {
      "needs_background": "light",
      "tags": []
     },
     "output_type": "display_data"
    }
   ],
   "source": [
    "import matplotlib.pyplot as plt\n",
    "plt.imshow(x_treino[10])"
   ]
  },
  {
   "cell_type": "code",
   "execution_count": 7,
   "metadata": {
    "executionInfo": {
     "elapsed": 2628,
     "status": "ok",
     "timestamp": 1616679455534,
     "user": {
      "displayName": "Sylvia DS",
      "photoUrl": "https://lh3.googleusercontent.com/a-/AOh14GiSFJz9aFktQr3xoujaR0qURWV_9GBz5Gjebvuy=s64",
      "userId": "10768086266314439635"
     },
     "user_tz": 180
    },
    "id": "O4VyhZVBU_4V"
   },
   "outputs": [],
   "source": [
    "x_treino_1 = x_treino.reshape(60000, 784)\n",
    "x_teste_1 = x_teste.reshape(10000, 784)"
   ]
  },
  {
   "cell_type": "code",
   "execution_count": 8,
   "metadata": {
    "executionInfo": {
     "elapsed": 2611,
     "status": "ok",
     "timestamp": 1616679455537,
     "user": {
      "displayName": "Sylvia DS",
      "photoUrl": "https://lh3.googleusercontent.com/a-/AOh14GiSFJz9aFktQr3xoujaR0qURWV_9GBz5Gjebvuy=s64",
      "userId": "10768086266314439635"
     },
     "user_tz": 180
    },
    "id": "T5ZGz8saVOtw"
   },
   "outputs": [],
   "source": [
    "x_treinoAjustado = x_treino_1.astype('float32') / 255\n",
    "x_testeAjustado = x_teste_1.astype('float32') / 255"
   ]
  },
  {
   "cell_type": "code",
   "execution_count": 9,
   "metadata": {
    "executionInfo": {
     "elapsed": 2627,
     "status": "ok",
     "timestamp": 1616679455562,
     "user": {
      "displayName": "Sylvia DS",
      "photoUrl": "https://lh3.googleusercontent.com/a-/AOh14GiSFJz9aFktQr3xoujaR0qURWV_9GBz5Gjebvuy=s64",
      "userId": "10768086266314439635"
     },
     "user_tz": 180
    },
    "id": "XNKht2aaVSYZ"
   },
   "outputs": [],
   "source": [
    "from keras.models import Sequential\n",
    "from keras.layers import Dense, Activation, Dropout\n",
    "from keras.optimizers import SGD, Adam, Adamax, RMSprop"
   ]
  },
  {
   "cell_type": "code",
   "execution_count": 10,
   "metadata": {
    "executionInfo": {
     "elapsed": 2784,
     "status": "ok",
     "timestamp": 1616679455728,
     "user": {
      "displayName": "Sylvia DS",
      "photoUrl": "https://lh3.googleusercontent.com/a-/AOh14GiSFJz9aFktQr3xoujaR0qURWV_9GBz5Gjebvuy=s64",
      "userId": "10768086266314439635"
     },
     "user_tz": 180
    },
    "id": "k_tu2dB5Vsxm"
   },
   "outputs": [],
   "source": [
    "otimizador = RMSprop(learning_rate=0.005)\n",
    "\n",
    "modelo = Sequential()\n",
    "modelo.add(Dense(10,input_dim=784, kernel_initializer='normal',activation='relu'))\n",
    "modelo.add(Dense(10, input_dim=784, kernel_initializer='normal', activation='relu'))\n",
    "modelo.add(Dense(10, activation='softmax'))"
   ]
  },
  {
   "cell_type": "code",
   "execution_count": 11,
   "metadata": {
    "executionInfo": {
     "elapsed": 2776,
     "status": "ok",
     "timestamp": 1616679455731,
     "user": {
      "displayName": "Sylvia DS",
      "photoUrl": "https://lh3.googleusercontent.com/a-/AOh14GiSFJz9aFktQr3xoujaR0qURWV_9GBz5Gjebvuy=s64",
      "userId": "10768086266314439635"
     },
     "user_tz": 180
    },
    "id": "0BtbjGJ6YPNX"
   },
   "outputs": [],
   "source": [
    "modelo.compile(optimizer=otimizador, loss='categorical_crossentropy', metrics=['acc'])"
   ]
  },
  {
   "cell_type": "code",
   "execution_count": 12,
   "metadata": {
    "colab": {
     "base_uri": "https://localhost:8080/"
    },
    "executionInfo": {
     "elapsed": 10889,
     "status": "ok",
     "timestamp": 1616679463866,
     "user": {
      "displayName": "Sylvia DS",
      "photoUrl": "https://lh3.googleusercontent.com/a-/AOh14GiSFJz9aFktQr3xoujaR0qURWV_9GBz5Gjebvuy=s64",
      "userId": "10768086266314439635"
     },
     "user_tz": 180
    },
    "id": "gHc4AoHzYsMd",
    "outputId": "3b9d63f3-4ec1-46dd-dc20-24ab3d74926d"
   },
   "outputs": [
    {
     "name": "stdout",
     "output_type": "stream",
     "text": [
      "Epoch 1/10\n",
      "300/300 [==============================] - 2s 3ms/step - loss: 1.1351 - acc: 0.6183 - val_loss: 0.3785 - val_acc: 0.8892\n",
      "Epoch 2/10\n",
      "300/300 [==============================] - 1s 2ms/step - loss: 0.3533 - acc: 0.8972 - val_loss: 0.3215 - val_acc: 0.9040\n",
      "Epoch 3/10\n",
      "300/300 [==============================] - 1s 2ms/step - loss: 0.2911 - acc: 0.9163 - val_loss: 0.2563 - val_acc: 0.9255\n",
      "Epoch 4/10\n",
      "300/300 [==============================] - 1s 2ms/step - loss: 0.2609 - acc: 0.9251 - val_loss: 0.2418 - val_acc: 0.9280\n",
      "Epoch 5/10\n",
      "300/300 [==============================] - 1s 2ms/step - loss: 0.2333 - acc: 0.9324 - val_loss: 0.2450 - val_acc: 0.9284\n",
      "Epoch 6/10\n",
      "300/300 [==============================] - 1s 2ms/step - loss: 0.2175 - acc: 0.9368 - val_loss: 0.2147 - val_acc: 0.9373\n",
      "Epoch 7/10\n",
      "300/300 [==============================] - 1s 2ms/step - loss: 0.2027 - acc: 0.9402 - val_loss: 0.2203 - val_acc: 0.9366\n",
      "Epoch 8/10\n",
      "300/300 [==============================] - 1s 2ms/step - loss: 0.1926 - acc: 0.9436 - val_loss: 0.2211 - val_acc: 0.9344\n",
      "Epoch 9/10\n",
      "300/300 [==============================] - 1s 2ms/step - loss: 0.1883 - acc: 0.9452 - val_loss: 0.2086 - val_acc: 0.9375\n",
      "Epoch 10/10\n",
      "300/300 [==============================] - 1s 2ms/step - loss: 0.1891 - acc: 0.9446 - val_loss: 0.2203 - val_acc: 0.9366\n"
     ]
    }
   ],
   "source": [
    "testes = modelo.fit(x_treinoAjustado, y_matrizTreino, batch_size=200, epochs=10, validation_data=(x_testeAjustado, y_matrizTeste))"
   ]
  },
  {
   "cell_type": "code",
   "execution_count": 13,
   "metadata": {
    "colab": {
     "base_uri": "https://localhost:8080/",
     "height": 279
    },
    "executionInfo": {
     "elapsed": 10871,
     "status": "ok",
     "timestamp": 1616679463870,
     "user": {
      "displayName": "Sylvia DS",
      "photoUrl": "https://lh3.googleusercontent.com/a-/AOh14GiSFJz9aFktQr3xoujaR0qURWV_9GBz5Gjebvuy=s64",
      "userId": "10768086266314439635"
     },
     "user_tz": 180
    },
    "id": "xALDb12pZCdC",
    "outputId": "ce113550-7a35-4e76-9511-e57af385546e"
   },
   "outputs": [
    {
     "data": {
      "image/png": "[encoded data removed]",
      "text/plain": [
       "<Figure size 432x288 with 1 Axes>"
      ]
     },
     "metadata": {
      "needs_background": "light",
      "tags": []
     },
     "output_type": "display_data"
    }
   ],
   "source": [
    "Resultado_treino = testes.history['acc']\n",
    "Resultado_teste = testes.history['val_acc']\n",
    "Epochs = range(1,len(Resultado_treino)+1)\n",
    "\n",
    "plt.plot(Epochs, Resultado_treino, label='Resultado Dados de Treino', color='blue')\n",
    "plt.plot(Epochs, Resultado_teste, '-g', label='Resultado Dados de Teste', color='green')\n",
    "plt.legend()\n",
    "plt.xlabel('Iterações')\n",
    "plt.ylabel('Acurácia')\n",
    "plt.show()"
   ]
  },
  {
   "cell_type": "markdown",
   "metadata": {
    "id": "mDBYCwEVp2h0"
   },
   "source": []
  }
 ],
 "metadata": {
  "colab": {
   "authorship_tag": "ABX9TyP/aStS5XeuyCE+OTtg7WV0",
   "collapsed_sections": [],
   "name": "TREINO Redes Neurais.ipynb",
   "provenance": []
  },
  "kernelspec": {
   "display_name": "Python 3",
   "language": "python",
   "name": "python3"
  },
  "language_info": {
   "codemirror_mode": {
    "name": "ipython",
    "version": 3
   },
   "file_extension": ".py",
   "mimetype": "text/x-python",
   "name": "python",
   "nbconvert_exporter": "python",
   "pygments_lexer": "ipython3",
   "version": "3.8.5"
  }
 },
 "nbformat": 4,
 "nbformat_minor": 1
}
